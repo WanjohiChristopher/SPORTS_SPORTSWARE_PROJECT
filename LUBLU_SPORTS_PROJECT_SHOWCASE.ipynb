{
 "cells": [
  {
   "cell_type": "markdown",
   "metadata": {},
   "source": [
    "#  Problem Statement\n",
    "The Sports industry in Russia has seen an increase in profits for two leading sportswear\n",
    "and athleisure brands brand (Nike and Adidas) for the past one year. This has led to the\n",
    "emergence of premium sports startups such as Lublu, which would want to take\n",
    "advantage of this opportunity and get a market share."
   ]
  },
  {
   "cell_type": "markdown",
   "metadata": {},
   "source": [
    "## Background Information\n",
    "You work for Lublu as a Data Science Consultant and you have been tasked to perform\n",
    "analysis on pricing, product and assortment of Adidas and Nike. Create a descriptive\n",
    "analysis report, making relevant observations and recommendations that will help Lublu\n",
    "in the launch of such similar products.\n",
    "\n",
    "Hints\n",
    "\n",
    "\n",
    "You can look into the following information:\n",
    "\n",
    "\n",
    "\n",
    "● Product listings i.e. total products, specialized products, etc.'\\n'\n",
    "● Product priced within certain ranges.'\\n'\n",
    "● Discount statistics.\n",
    "● Sales price statistics within certain ranges.\n",
    "● External information i.e. Market share information.\n",
    "Dataset Information\n",
    "The products datasets for Adidas and Nike can be found below:\n",
    "● Adidas Dataset: https://bit.ly/356xowy\n",
    "● Nike Dataset: https://bit.ly/3j253wf"
   ]
  },
  {
   "cell_type": "markdown",
   "metadata": {},
   "source": [
    "#### IMPORTING LIBRARIES"
   ]
  },
  {
   "cell_type": "code",
   "execution_count": 1,
   "metadata": {},
   "outputs": [],
   "source": [
    "import numpy as np # FOR scientific computations\n",
    "import pandas as pd #for data manipulationand analysis\n",
    "import matplotlib.pyplot as plt #for data visualization\n",
    "import seaborn as sns #for data visualization"
   ]
  },
  {
   "cell_type": "code",
   "execution_count": 2,
   "metadata": {},
   "outputs": [],
   "source": [
    "# loading dataset\n",
    "\n",
    "Nike_lublu_df=pd.read_csv(\"nike_2020_04_13.csv\")"
   ]
  },
  {
   "cell_type": "code",
   "execution_count": 3,
   "metadata": {},
   "outputs": [],
   "source": [
    "Adidas_lublu_df=pd.read_csv(\"Adidasfinal.csv\",sep=';')"
   ]
  },
  {
   "cell_type": "markdown",
   "metadata": {},
   "source": [
    "# Data Understanding"
   ]
  },
  {
   "cell_type": "code",
   "execution_count": 4,
   "metadata": {},
   "outputs": [
    {
     "data": {
      "text/plain": [
       "Index(['URL', 'Product Name', 'Product ID', 'Listing Price', 'Sale Price',\n",
       "       'Discount', 'Brand', 'Description', 'Rating', 'Reviews', 'Images',\n",
       "       'Last Visited'],\n",
       "      dtype='object')"
      ]
     },
     "execution_count": 4,
     "metadata": {},
     "output_type": "execute_result"
    }
   ],
   "source": [
    "Nike_lublu_df.columns"
   ]
  },
  {
   "cell_type": "code",
   "execution_count": 5,
   "metadata": {},
   "outputs": [
    {
     "data": {
      "text/plain": [
       "Index(['URL', 'Product Name', 'Product ID', 'Listing Price', 'Sale Price',\n",
       "       'Discount', 'Brand', 'Description', 'Rating', 'Reviews', 'Images',\n",
       "       'Last Visited'],\n",
       "      dtype='object')"
      ]
     },
     "execution_count": 5,
     "metadata": {},
     "output_type": "execute_result"
    }
   ],
   "source": [
    "Adidas_lublu_df.columns"
   ]
  },
  {
   "cell_type": "code",
   "execution_count": 6,
   "metadata": {},
   "outputs": [
    {
     "data": {
      "text/html": [
       "<div>\n",
       "<style scoped>\n",
       "    .dataframe tbody tr th:only-of-type {\n",
       "        vertical-align: middle;\n",
       "    }\n",
       "\n",
       "    .dataframe tbody tr th {\n",
       "        vertical-align: top;\n",
       "    }\n",
       "\n",
       "    .dataframe thead th {\n",
       "        text-align: right;\n",
       "    }\n",
       "</style>\n",
       "<table border=\"1\" class=\"dataframe\">\n",
       "  <thead>\n",
       "    <tr style=\"text-align: right;\">\n",
       "      <th></th>\n",
       "      <th>URL</th>\n",
       "      <th>Product Name</th>\n",
       "      <th>Product ID</th>\n",
       "      <th>Listing Price</th>\n",
       "      <th>Sale Price</th>\n",
       "      <th>Discount</th>\n",
       "      <th>Brand</th>\n",
       "      <th>Description</th>\n",
       "      <th>Rating</th>\n",
       "      <th>Reviews</th>\n",
       "      <th>Images</th>\n",
       "      <th>Last Visited</th>\n",
       "    </tr>\n",
       "  </thead>\n",
       "  <tbody>\n",
       "    <tr>\n",
       "      <th>0</th>\n",
       "      <td>https://www.nike.com/in/t/air-force-1-07-essen...</td>\n",
       "      <td>Nike Air Force 1 '07 Essential</td>\n",
       "      <td>CJ1646-600</td>\n",
       "      <td>0</td>\n",
       "      <td>7495</td>\n",
       "      <td>0</td>\n",
       "      <td>Nike</td>\n",
       "      <td>Let your shoe game shimmer in the Nike Air For...</td>\n",
       "      <td>0.0</td>\n",
       "      <td>0</td>\n",
       "      <td>[\"https://static.nike.com/a/images/t_PDP_1728_...</td>\n",
       "      <td>2020-04-13T15:27:56</td>\n",
       "    </tr>\n",
       "    <tr>\n",
       "      <th>1</th>\n",
       "      <td>https://www.nike.com/in/t/air-force-1-07-shoe-...</td>\n",
       "      <td>Nike Air Force 1 '07</td>\n",
       "      <td>CT4328-101</td>\n",
       "      <td>0</td>\n",
       "      <td>7495</td>\n",
       "      <td>0</td>\n",
       "      <td>Nike</td>\n",
       "      <td>The legend lives on in the Nike Air Force 1 '0...</td>\n",
       "      <td>0.0</td>\n",
       "      <td>0</td>\n",
       "      <td>[\"https://static.nike.com/a/images/t_PDP_1728_...</td>\n",
       "      <td>2020-04-13T15:27:56</td>\n",
       "    </tr>\n",
       "    <tr>\n",
       "      <th>2</th>\n",
       "      <td>https://www.nike.com/in/t/air-force-1-sage-low...</td>\n",
       "      <td>Nike Air Force 1 Sage Low LX</td>\n",
       "      <td>CI3482-200</td>\n",
       "      <td>0</td>\n",
       "      <td>9995</td>\n",
       "      <td>0</td>\n",
       "      <td>Nike</td>\n",
       "      <td>Taking both height and craft to new levels, th...</td>\n",
       "      <td>0.0</td>\n",
       "      <td>0</td>\n",
       "      <td>[\"https://static.nike.com/a/images/t_PDP_1728_...</td>\n",
       "      <td>2020-04-13T15:27:56</td>\n",
       "    </tr>\n",
       "    <tr>\n",
       "      <th>3</th>\n",
       "      <td>https://www.nike.com/in/t/air-max-dia-se-shoe-...</td>\n",
       "      <td>Nike Air Max Dia SE</td>\n",
       "      <td>CD0479-200</td>\n",
       "      <td>0</td>\n",
       "      <td>9995</td>\n",
       "      <td>0</td>\n",
       "      <td>Nike</td>\n",
       "      <td>Designed for a woman's foot, the Nike Air Max ...</td>\n",
       "      <td>0.0</td>\n",
       "      <td>0</td>\n",
       "      <td>[\"https://static.nike.com/a/images/t_PDP_1728_...</td>\n",
       "      <td>2020-04-13T15:27:57</td>\n",
       "    </tr>\n",
       "    <tr>\n",
       "      <th>4</th>\n",
       "      <td>https://www.nike.com/in/t/air-max-verona-shoe-...</td>\n",
       "      <td>Nike Air Max Verona</td>\n",
       "      <td>CZ6156-101</td>\n",
       "      <td>0</td>\n",
       "      <td>9995</td>\n",
       "      <td>0</td>\n",
       "      <td>Nike</td>\n",
       "      <td>Pass on the good vibes in the Nike Air Max Ver...</td>\n",
       "      <td>0.0</td>\n",
       "      <td>0</td>\n",
       "      <td>[\"https://static.nike.com/a/images/t_PDP_1728_...</td>\n",
       "      <td>2020-04-13T15:27:57</td>\n",
       "    </tr>\n",
       "  </tbody>\n",
       "</table>\n",
       "</div>"
      ],
      "text/plain": [
       "                                                 URL  \\\n",
       "0  https://www.nike.com/in/t/air-force-1-07-essen...   \n",
       "1  https://www.nike.com/in/t/air-force-1-07-shoe-...   \n",
       "2  https://www.nike.com/in/t/air-force-1-sage-low...   \n",
       "3  https://www.nike.com/in/t/air-max-dia-se-shoe-...   \n",
       "4  https://www.nike.com/in/t/air-max-verona-shoe-...   \n",
       "\n",
       "                     Product Name  Product ID  Listing Price  Sale Price  \\\n",
       "0  Nike Air Force 1 '07 Essential  CJ1646-600              0        7495   \n",
       "1            Nike Air Force 1 '07  CT4328-101              0        7495   \n",
       "2    Nike Air Force 1 Sage Low LX  CI3482-200              0        9995   \n",
       "3             Nike Air Max Dia SE  CD0479-200              0        9995   \n",
       "4             Nike Air Max Verona  CZ6156-101              0        9995   \n",
       "\n",
       "   Discount Brand                                        Description  Rating  \\\n",
       "0         0  Nike  Let your shoe game shimmer in the Nike Air For...     0.0   \n",
       "1         0  Nike  The legend lives on in the Nike Air Force 1 '0...     0.0   \n",
       "2         0  Nike  Taking both height and craft to new levels, th...     0.0   \n",
       "3         0  Nike  Designed for a woman's foot, the Nike Air Max ...     0.0   \n",
       "4         0  Nike  Pass on the good vibes in the Nike Air Max Ver...     0.0   \n",
       "\n",
       "   Reviews                                             Images  \\\n",
       "0        0  [\"https://static.nike.com/a/images/t_PDP_1728_...   \n",
       "1        0  [\"https://static.nike.com/a/images/t_PDP_1728_...   \n",
       "2        0  [\"https://static.nike.com/a/images/t_PDP_1728_...   \n",
       "3        0  [\"https://static.nike.com/a/images/t_PDP_1728_...   \n",
       "4        0  [\"https://static.nike.com/a/images/t_PDP_1728_...   \n",
       "\n",
       "          Last Visited  \n",
       "0  2020-04-13T15:27:56  \n",
       "1  2020-04-13T15:27:56  \n",
       "2  2020-04-13T15:27:56  \n",
       "3  2020-04-13T15:27:57  \n",
       "4  2020-04-13T15:27:57  "
      ]
     },
     "execution_count": 6,
     "metadata": {},
     "output_type": "execute_result"
    }
   ],
   "source": [
    "Nike_lublu_df.head()"
   ]
  },
  {
   "cell_type": "code",
   "execution_count": 7,
   "metadata": {},
   "outputs": [
    {
     "data": {
      "text/html": [
       "<div>\n",
       "<style scoped>\n",
       "    .dataframe tbody tr th:only-of-type {\n",
       "        vertical-align: middle;\n",
       "    }\n",
       "\n",
       "    .dataframe tbody tr th {\n",
       "        vertical-align: top;\n",
       "    }\n",
       "\n",
       "    .dataframe thead th {\n",
       "        text-align: right;\n",
       "    }\n",
       "</style>\n",
       "<table border=\"1\" class=\"dataframe\">\n",
       "  <thead>\n",
       "    <tr style=\"text-align: right;\">\n",
       "      <th></th>\n",
       "      <th>URL</th>\n",
       "      <th>Product Name</th>\n",
       "      <th>Product ID</th>\n",
       "      <th>Listing Price</th>\n",
       "      <th>Sale Price</th>\n",
       "      <th>Discount</th>\n",
       "      <th>Brand</th>\n",
       "      <th>Description</th>\n",
       "      <th>Rating</th>\n",
       "      <th>Reviews</th>\n",
       "      <th>Images</th>\n",
       "      <th>Last Visited</th>\n",
       "    </tr>\n",
       "  </thead>\n",
       "  <tbody>\n",
       "    <tr>\n",
       "      <th>638</th>\n",
       "      <td>https://www.nike.com/in/t/air-jordan-8-retro-s...</td>\n",
       "      <td>Air Jordan 8 Retro</td>\n",
       "      <td>CI1236-100</td>\n",
       "      <td>15995</td>\n",
       "      <td>12797</td>\n",
       "      <td>0</td>\n",
       "      <td>Nike</td>\n",
       "      <td>The Air Jordan 8 Retro recaptures the memorabl...</td>\n",
       "      <td>5.0</td>\n",
       "      <td>1</td>\n",
       "      <td>[\"https://static.nike.com/a/images/t_PDP_1728_...</td>\n",
       "      <td>2020-04-13T15:41:01</td>\n",
       "    </tr>\n",
       "    <tr>\n",
       "      <th>639</th>\n",
       "      <td>https://www.nike.com/in/t/phantom-venom-club-i...</td>\n",
       "      <td>Nike Phantom Venom Club IC</td>\n",
       "      <td>AO0578-717</td>\n",
       "      <td>4995</td>\n",
       "      <td>3497</td>\n",
       "      <td>0</td>\n",
       "      <td>Nike</td>\n",
       "      <td>The Nike Phantom Venom Club IC is engineered f...</td>\n",
       "      <td>0.0</td>\n",
       "      <td>0</td>\n",
       "      <td>NaN</td>\n",
       "      <td>2020-04-13T15:41:03</td>\n",
       "    </tr>\n",
       "    <tr>\n",
       "      <th>640</th>\n",
       "      <td>https://www.nike.com/in/t/mercurial-superfly-7...</td>\n",
       "      <td>Nike Mercurial Superfly 7 Academy TF</td>\n",
       "      <td>AT7978-414</td>\n",
       "      <td>8495</td>\n",
       "      <td>5947</td>\n",
       "      <td>0</td>\n",
       "      <td>Nike</td>\n",
       "      <td>The soft upper of the Nike Mercurial Superfly ...</td>\n",
       "      <td>5.0</td>\n",
       "      <td>1</td>\n",
       "      <td>NaN</td>\n",
       "      <td>2020-04-13T15:41:07</td>\n",
       "    </tr>\n",
       "    <tr>\n",
       "      <th>641</th>\n",
       "      <td>https://www.nike.com/in/t/air-max-98-shoe-q8B0...</td>\n",
       "      <td>Nike Air Max 98</td>\n",
       "      <td>AH6799-300</td>\n",
       "      <td>0</td>\n",
       "      <td>16995</td>\n",
       "      <td>0</td>\n",
       "      <td>Nike</td>\n",
       "      <td>The Nike Air Max 98 features the OG design lin...</td>\n",
       "      <td>4.0</td>\n",
       "      <td>4</td>\n",
       "      <td>[\"https://static.nike.com/a/images/t_PDP_1728_...</td>\n",
       "      <td>2020-04-13T15:41:19</td>\n",
       "    </tr>\n",
       "    <tr>\n",
       "      <th>642</th>\n",
       "      <td>https://www.nike.com/in/t/p-6000-se-shoe-3lr0z...</td>\n",
       "      <td>Nike P-6000 SE</td>\n",
       "      <td>CJ9585-600</td>\n",
       "      <td>8995</td>\n",
       "      <td>6297</td>\n",
       "      <td>0</td>\n",
       "      <td>Nike</td>\n",
       "      <td>A mash-up of Pegasus' past, the Nike P-6000 SE...</td>\n",
       "      <td>0.0</td>\n",
       "      <td>0</td>\n",
       "      <td>[\"https://static.nike.com/a/images/t_PDP_1728_...</td>\n",
       "      <td>2020-04-13T15:42:57</td>\n",
       "    </tr>\n",
       "  </tbody>\n",
       "</table>\n",
       "</div>"
      ],
      "text/plain": [
       "                                                   URL  \\\n",
       "638  https://www.nike.com/in/t/air-jordan-8-retro-s...   \n",
       "639  https://www.nike.com/in/t/phantom-venom-club-i...   \n",
       "640  https://www.nike.com/in/t/mercurial-superfly-7...   \n",
       "641  https://www.nike.com/in/t/air-max-98-shoe-q8B0...   \n",
       "642  https://www.nike.com/in/t/p-6000-se-shoe-3lr0z...   \n",
       "\n",
       "                             Product Name  Product ID  Listing Price  \\\n",
       "638                    Air Jordan 8 Retro  CI1236-100          15995   \n",
       "639            Nike Phantom Venom Club IC  AO0578-717           4995   \n",
       "640  Nike Mercurial Superfly 7 Academy TF  AT7978-414           8495   \n",
       "641                       Nike Air Max 98  AH6799-300              0   \n",
       "642                        Nike P-6000 SE  CJ9585-600           8995   \n",
       "\n",
       "     Sale Price  Discount Brand  \\\n",
       "638       12797         0  Nike   \n",
       "639        3497         0  Nike   \n",
       "640        5947         0  Nike   \n",
       "641       16995         0  Nike   \n",
       "642        6297         0  Nike   \n",
       "\n",
       "                                           Description  Rating  Reviews  \\\n",
       "638  The Air Jordan 8 Retro recaptures the memorabl...     5.0        1   \n",
       "639  The Nike Phantom Venom Club IC is engineered f...     0.0        0   \n",
       "640  The soft upper of the Nike Mercurial Superfly ...     5.0        1   \n",
       "641  The Nike Air Max 98 features the OG design lin...     4.0        4   \n",
       "642  A mash-up of Pegasus' past, the Nike P-6000 SE...     0.0        0   \n",
       "\n",
       "                                                Images         Last Visited  \n",
       "638  [\"https://static.nike.com/a/images/t_PDP_1728_...  2020-04-13T15:41:01  \n",
       "639                                                NaN  2020-04-13T15:41:03  \n",
       "640                                                NaN  2020-04-13T15:41:07  \n",
       "641  [\"https://static.nike.com/a/images/t_PDP_1728_...  2020-04-13T15:41:19  \n",
       "642  [\"https://static.nike.com/a/images/t_PDP_1728_...  2020-04-13T15:42:57  "
      ]
     },
     "execution_count": 7,
     "metadata": {},
     "output_type": "execute_result"
    }
   ],
   "source": [
    "Nike_lublu_df.tail()"
   ]
  },
  {
   "cell_type": "code",
   "execution_count": 8,
   "metadata": {},
   "outputs": [
    {
     "data": {
      "text/html": [
       "<div>\n",
       "<style scoped>\n",
       "    .dataframe tbody tr th:only-of-type {\n",
       "        vertical-align: middle;\n",
       "    }\n",
       "\n",
       "    .dataframe tbody tr th {\n",
       "        vertical-align: top;\n",
       "    }\n",
       "\n",
       "    .dataframe thead th {\n",
       "        text-align: right;\n",
       "    }\n",
       "</style>\n",
       "<table border=\"1\" class=\"dataframe\">\n",
       "  <thead>\n",
       "    <tr style=\"text-align: right;\">\n",
       "      <th></th>\n",
       "      <th>URL</th>\n",
       "      <th>Product Name</th>\n",
       "      <th>Product ID</th>\n",
       "      <th>Listing Price</th>\n",
       "      <th>Sale Price</th>\n",
       "      <th>Discount</th>\n",
       "      <th>Brand</th>\n",
       "      <th>Description</th>\n",
       "      <th>Rating</th>\n",
       "      <th>Reviews</th>\n",
       "      <th>Images</th>\n",
       "      <th>Last Visited</th>\n",
       "    </tr>\n",
       "  </thead>\n",
       "  <tbody>\n",
       "    <tr>\n",
       "      <th>0</th>\n",
       "      <td>https://shop.adidas.co.in/#!product/AH2430_nmd...</td>\n",
       "      <td>Women's adidas Originals NMD_Racer Primeknit S...</td>\n",
       "      <td>AH2430</td>\n",
       "      <td>14999</td>\n",
       "      <td>7499</td>\n",
       "      <td>50</td>\n",
       "      <td>ORIGINALS</td>\n",
       "      <td>Channeling the streamlined look of an '80s rac...</td>\n",
       "      <td>0</td>\n",
       "      <td>0</td>\n",
       "      <td>[\"https://content.adidas.co.in/static/Product-...</td>\n",
       "      <td>2020-04-13T15:06:14</td>\n",
       "    </tr>\n",
       "    <tr>\n",
       "      <th>1</th>\n",
       "      <td>https://shop.adidas.co.in/#!product/G27341_adi...</td>\n",
       "      <td>Women's adidas Originals Sleek Shoes</td>\n",
       "      <td>G27341</td>\n",
       "      <td>7599</td>\n",
       "      <td>3799</td>\n",
       "      <td>50</td>\n",
       "      <td>ORIGINALS</td>\n",
       "      <td>A modern take on adidas sport heritage, tailor...</td>\n",
       "      <td>0</td>\n",
       "      <td>0</td>\n",
       "      <td>[\"https://content.adidas.co.in/static/Product-...</td>\n",
       "      <td>2020-04-13T15:06:15</td>\n",
       "    </tr>\n",
       "    <tr>\n",
       "      <th>2</th>\n",
       "      <td>https://shop.adidas.co.in/#!product/CM0081_pukaws</td>\n",
       "      <td>Women's adidas Swim Puka Slippers</td>\n",
       "      <td>CM0081</td>\n",
       "      <td>999</td>\n",
       "      <td>599</td>\n",
       "      <td>40</td>\n",
       "      <td>CORE / NEO</td>\n",
       "      <td>These adidas Puka slippers for women's come wi...</td>\n",
       "      <td>0</td>\n",
       "      <td>0</td>\n",
       "      <td>[\"https://content.adidas.co.in/static/Product-...</td>\n",
       "      <td>2020-04-13T15:06:15</td>\n",
       "    </tr>\n",
       "    <tr>\n",
       "      <th>3</th>\n",
       "      <td>https://shop.adidas.co.in/#!product/B44832_que...</td>\n",
       "      <td>Women's adidas Sport Inspired Questar Ride Shoes</td>\n",
       "      <td>B44832</td>\n",
       "      <td>6999</td>\n",
       "      <td>3499</td>\n",
       "      <td>50</td>\n",
       "      <td>CORE / NEO</td>\n",
       "      <td>Inspired by modern tech runners, these women's...</td>\n",
       "      <td>0</td>\n",
       "      <td>0</td>\n",
       "      <td>[\"https://content.adidas.co.in/static/Product-...</td>\n",
       "      <td>2020-04-13T15:06:15</td>\n",
       "    </tr>\n",
       "    <tr>\n",
       "      <th>4</th>\n",
       "      <td>https://shop.adidas.co.in/#!product/D98205_tae...</td>\n",
       "      <td>Women's adidas Originals Taekwondo Shoes</td>\n",
       "      <td>D98205</td>\n",
       "      <td>7999</td>\n",
       "      <td>3999</td>\n",
       "      <td>50</td>\n",
       "      <td>ORIGINALS</td>\n",
       "      <td>This design is inspired by vintage Taekwondo s...</td>\n",
       "      <td>0</td>\n",
       "      <td>0</td>\n",
       "      <td>[\"https://content.adidas.co.in/static/Product-...</td>\n",
       "      <td>2020-04-13T15:06:15</td>\n",
       "    </tr>\n",
       "  </tbody>\n",
       "</table>\n",
       "</div>"
      ],
      "text/plain": [
       "                                                 URL  \\\n",
       "0  https://shop.adidas.co.in/#!product/AH2430_nmd...   \n",
       "1  https://shop.adidas.co.in/#!product/G27341_adi...   \n",
       "2  https://shop.adidas.co.in/#!product/CM0081_pukaws   \n",
       "3  https://shop.adidas.co.in/#!product/B44832_que...   \n",
       "4  https://shop.adidas.co.in/#!product/D98205_tae...   \n",
       "\n",
       "                                        Product Name Product ID  \\\n",
       "0  Women's adidas Originals NMD_Racer Primeknit S...     AH2430   \n",
       "1               Women's adidas Originals Sleek Shoes     G27341   \n",
       "2                 Women's adidas Swim Puka Slippers      CM0081   \n",
       "3   Women's adidas Sport Inspired Questar Ride Shoes     B44832   \n",
       "4           Women's adidas Originals Taekwondo Shoes     D98205   \n",
       "\n",
       "   Listing Price  Sale Price  Discount       Brand  \\\n",
       "0          14999        7499        50   ORIGINALS   \n",
       "1           7599        3799        50   ORIGINALS   \n",
       "2            999         599        40  CORE / NEO   \n",
       "3           6999        3499        50  CORE / NEO   \n",
       "4           7999        3999        50   ORIGINALS   \n",
       "\n",
       "                                         Description  Rating  Reviews  \\\n",
       "0  Channeling the streamlined look of an '80s rac...       0        0   \n",
       "1  A modern take on adidas sport heritage, tailor...       0        0   \n",
       "2  These adidas Puka slippers for women's come wi...       0        0   \n",
       "3  Inspired by modern tech runners, these women's...       0        0   \n",
       "4  This design is inspired by vintage Taekwondo s...       0        0   \n",
       "\n",
       "                                              Images         Last Visited  \n",
       "0  [\"https://content.adidas.co.in/static/Product-...  2020-04-13T15:06:14  \n",
       "1  [\"https://content.adidas.co.in/static/Product-...  2020-04-13T15:06:15  \n",
       "2  [\"https://content.adidas.co.in/static/Product-...  2020-04-13T15:06:15  \n",
       "3  [\"https://content.adidas.co.in/static/Product-...  2020-04-13T15:06:15  \n",
       "4  [\"https://content.adidas.co.in/static/Product-...  2020-04-13T15:06:15  "
      ]
     },
     "execution_count": 8,
     "metadata": {},
     "output_type": "execute_result"
    }
   ],
   "source": [
    "Adidas_lublu_df.head()"
   ]
  },
  {
   "cell_type": "code",
   "execution_count": 9,
   "metadata": {},
   "outputs": [
    {
     "data": {
      "text/html": [
       "<div>\n",
       "<style scoped>\n",
       "    .dataframe tbody tr th:only-of-type {\n",
       "        vertical-align: middle;\n",
       "    }\n",
       "\n",
       "    .dataframe tbody tr th {\n",
       "        vertical-align: top;\n",
       "    }\n",
       "\n",
       "    .dataframe thead th {\n",
       "        text-align: right;\n",
       "    }\n",
       "</style>\n",
       "<table border=\"1\" class=\"dataframe\">\n",
       "  <thead>\n",
       "    <tr style=\"text-align: right;\">\n",
       "      <th></th>\n",
       "      <th>URL</th>\n",
       "      <th>Product Name</th>\n",
       "      <th>Product ID</th>\n",
       "      <th>Listing Price</th>\n",
       "      <th>Sale Price</th>\n",
       "      <th>Discount</th>\n",
       "      <th>Brand</th>\n",
       "      <th>Description</th>\n",
       "      <th>Rating</th>\n",
       "      <th>Reviews</th>\n",
       "      <th>Images</th>\n",
       "      <th>Last Visited</th>\n",
       "    </tr>\n",
       "  </thead>\n",
       "  <tbody>\n",
       "    <tr>\n",
       "      <th>2620</th>\n",
       "      <td>https://shop.adidas.co.in/#!product/EF3503_adi...</td>\n",
       "      <td>Men's adidas Adipower Vector 20 Shoes</td>\n",
       "      <td>EF3503</td>\n",
       "      <td>10999</td>\n",
       "      <td>10999</td>\n",
       "      <td>0</td>\n",
       "      <td>SPORT PERFORMANCE</td>\n",
       "      <td>It's just you and the batsman. As you steam to...</td>\n",
       "      <td>0</td>\n",
       "      <td>0</td>\n",
       "      <td>[\"https://content.adidas.co.in/static/Product-...</td>\n",
       "      <td>2020-04-13T15:07:59</td>\n",
       "    </tr>\n",
       "    <tr>\n",
       "      <th>2621</th>\n",
       "      <td>https://shop.adidas.co.in/#!product/EF3505_how...</td>\n",
       "      <td>Men's adidas Cricket Howzat Shoes</td>\n",
       "      <td>EF3505</td>\n",
       "      <td>6999</td>\n",
       "      <td>6999</td>\n",
       "      <td>0</td>\n",
       "      <td>SPORT PERFORMANCE</td>\n",
       "      <td>Batting, fielding or bowling, these Howzat Spi...</td>\n",
       "      <td>0</td>\n",
       "      <td>0</td>\n",
       "      <td>[\"https://content.adidas.co.in/static/Product-...</td>\n",
       "      <td>2020-04-13T15:07:59</td>\n",
       "    </tr>\n",
       "    <tr>\n",
       "      <th>2622</th>\n",
       "      <td>https://shop.adidas.co.in/#!product/CM6008_cri...</td>\n",
       "      <td>Men's Cricket Cri Hase Shoes</td>\n",
       "      <td>CM6008</td>\n",
       "      <td>3999</td>\n",
       "      <td>3999</td>\n",
       "      <td>0</td>\n",
       "      <td>SPORT PERFORMANCE</td>\n",
       "      <td>Thiese shoes are a great choice for the amatue...</td>\n",
       "      <td>0</td>\n",
       "      <td>0</td>\n",
       "      <td>[\"https://content.adidas.co.in/static/Product-...</td>\n",
       "      <td>2020-04-13T15:07:59</td>\n",
       "    </tr>\n",
       "    <tr>\n",
       "      <th>2623</th>\n",
       "      <td>https://shop.adidas.co.in/#!product/BC0980_ter...</td>\n",
       "      <td>Unisex adidas Outdoor Terrex Daroga Water Shoes</td>\n",
       "      <td>BC0980</td>\n",
       "      <td>7999</td>\n",
       "      <td>7999</td>\n",
       "      <td>0</td>\n",
       "      <td>SPORT PERFORMANCE</td>\n",
       "      <td>These shoes fit easily into a travel bag so yo...</td>\n",
       "      <td>0</td>\n",
       "      <td>0</td>\n",
       "      <td>[\"https://content.adidas.co.in/static/Product-...</td>\n",
       "      <td>2020-04-13T15:07:59</td>\n",
       "    </tr>\n",
       "    <tr>\n",
       "      <th>2624</th>\n",
       "      <td>https://shop.adidas.co.in/#!product/EF9924_har...</td>\n",
       "      <td>Men's adidas Basketball Harden Vol. 4 Shoes</td>\n",
       "      <td>EF9924</td>\n",
       "      <td>14999</td>\n",
       "      <td>14999</td>\n",
       "      <td>0</td>\n",
       "      <td>SPORT PERFORMANCE</td>\n",
       "      <td>These basketball shoes are designed specifical...</td>\n",
       "      <td>0</td>\n",
       "      <td>0</td>\n",
       "      <td>[\"https://content.adidas.co.in/static/Product-...</td>\n",
       "      <td>2020-04-13T15:07:59</td>\n",
       "    </tr>\n",
       "  </tbody>\n",
       "</table>\n",
       "</div>"
      ],
      "text/plain": [
       "                                                    URL  \\\n",
       "2620  https://shop.adidas.co.in/#!product/EF3503_adi...   \n",
       "2621  https://shop.adidas.co.in/#!product/EF3505_how...   \n",
       "2622  https://shop.adidas.co.in/#!product/CM6008_cri...   \n",
       "2623  https://shop.adidas.co.in/#!product/BC0980_ter...   \n",
       "2624  https://shop.adidas.co.in/#!product/EF9924_har...   \n",
       "\n",
       "                                         Product Name Product ID  \\\n",
       "2620            Men's adidas Adipower Vector 20 Shoes     EF3503   \n",
       "2621                Men's adidas Cricket Howzat Shoes     EF3505   \n",
       "2622                     Men's Cricket Cri Hase Shoes     CM6008   \n",
       "2623  Unisex adidas Outdoor Terrex Daroga Water Shoes     BC0980   \n",
       "2624      Men's adidas Basketball Harden Vol. 4 Shoes     EF9924   \n",
       "\n",
       "      Listing Price  Sale Price  Discount              Brand  \\\n",
       "2620          10999       10999         0  SPORT PERFORMANCE   \n",
       "2621           6999        6999         0  SPORT PERFORMANCE   \n",
       "2622           3999        3999         0  SPORT PERFORMANCE   \n",
       "2623           7999        7999         0  SPORT PERFORMANCE   \n",
       "2624          14999       14999         0  SPORT PERFORMANCE   \n",
       "\n",
       "                                            Description  Rating  Reviews  \\\n",
       "2620  It's just you and the batsman. As you steam to...       0        0   \n",
       "2621  Batting, fielding or bowling, these Howzat Spi...       0        0   \n",
       "2622  Thiese shoes are a great choice for the amatue...       0        0   \n",
       "2623  These shoes fit easily into a travel bag so yo...       0        0   \n",
       "2624  These basketball shoes are designed specifical...       0        0   \n",
       "\n",
       "                                                 Images         Last Visited  \n",
       "2620  [\"https://content.adidas.co.in/static/Product-...  2020-04-13T15:07:59  \n",
       "2621  [\"https://content.adidas.co.in/static/Product-...  2020-04-13T15:07:59  \n",
       "2622  [\"https://content.adidas.co.in/static/Product-...  2020-04-13T15:07:59  \n",
       "2623  [\"https://content.adidas.co.in/static/Product-...  2020-04-13T15:07:59  \n",
       "2624  [\"https://content.adidas.co.in/static/Product-...  2020-04-13T15:07:59  "
      ]
     },
     "execution_count": 9,
     "metadata": {},
     "output_type": "execute_result"
    }
   ],
   "source": [
    "Adidas_lublu_df.tail()"
   ]
  },
  {
   "cell_type": "code",
   "execution_count": 10,
   "metadata": {},
   "outputs": [
    {
     "name": "stdout",
     "output_type": "stream",
     "text": [
      "The number of rows and columns  for Adidas dataset is : (2625, 12)\n",
      "The number of rows and columns  for Nike dataset is : (643, 12)\n"
     ]
    }
   ],
   "source": [
    "#checking no.of rows and columns\n",
    "print(\"The number of rows and columns  for Adidas dataset is :\",Adidas_lublu_df.shape)\n",
    "print(\"The number of rows and columns  for Nike dataset is :\",Nike_lublu_df.shape)"
   ]
  },
  {
   "cell_type": "code",
   "execution_count": 12,
   "metadata": {},
   "outputs": [
    {
     "data": {
      "text/html": [
       "<div>\n",
       "<style scoped>\n",
       "    .dataframe tbody tr th:only-of-type {\n",
       "        vertical-align: middle;\n",
       "    }\n",
       "\n",
       "    .dataframe tbody tr th {\n",
       "        vertical-align: top;\n",
       "    }\n",
       "\n",
       "    .dataframe thead th {\n",
       "        text-align: right;\n",
       "    }\n",
       "</style>\n",
       "<table border=\"1\" class=\"dataframe\">\n",
       "  <thead>\n",
       "    <tr style=\"text-align: right;\">\n",
       "      <th></th>\n",
       "      <th>Listing Price</th>\n",
       "      <th>Sale Price</th>\n",
       "      <th>Discount</th>\n",
       "      <th>Rating</th>\n",
       "      <th>Reviews</th>\n",
       "    </tr>\n",
       "  </thead>\n",
       "  <tbody>\n",
       "    <tr>\n",
       "      <th>count</th>\n",
       "      <td>643.000000</td>\n",
       "      <td>643.000000</td>\n",
       "      <td>643.0</td>\n",
       "      <td>643.000000</td>\n",
       "      <td>643.000000</td>\n",
       "    </tr>\n",
       "    <tr>\n",
       "      <th>mean</th>\n",
       "      <td>3875.762053</td>\n",
       "      <td>10213.676516</td>\n",
       "      <td>0.0</td>\n",
       "      <td>2.734837</td>\n",
       "      <td>7.181960</td>\n",
       "    </tr>\n",
       "    <tr>\n",
       "      <th>std</th>\n",
       "      <td>5889.947172</td>\n",
       "      <td>4513.289512</td>\n",
       "      <td>0.0</td>\n",
       "      <td>2.137756</td>\n",
       "      <td>15.968315</td>\n",
       "    </tr>\n",
       "    <tr>\n",
       "      <th>min</th>\n",
       "      <td>0.000000</td>\n",
       "      <td>1595.000000</td>\n",
       "      <td>0.0</td>\n",
       "      <td>0.000000</td>\n",
       "      <td>0.000000</td>\n",
       "    </tr>\n",
       "    <tr>\n",
       "      <th>25%</th>\n",
       "      <td>0.000000</td>\n",
       "      <td>6995.000000</td>\n",
       "      <td>0.0</td>\n",
       "      <td>0.000000</td>\n",
       "      <td>0.000000</td>\n",
       "    </tr>\n",
       "    <tr>\n",
       "      <th>50%</th>\n",
       "      <td>0.000000</td>\n",
       "      <td>9597.000000</td>\n",
       "      <td>0.0</td>\n",
       "      <td>3.800000</td>\n",
       "      <td>1.000000</td>\n",
       "    </tr>\n",
       "    <tr>\n",
       "      <th>75%</th>\n",
       "      <td>8495.000000</td>\n",
       "      <td>12797.000000</td>\n",
       "      <td>0.0</td>\n",
       "      <td>4.600000</td>\n",
       "      <td>6.000000</td>\n",
       "    </tr>\n",
       "    <tr>\n",
       "      <th>max</th>\n",
       "      <td>19995.000000</td>\n",
       "      <td>36500.000000</td>\n",
       "      <td>0.0</td>\n",
       "      <td>5.000000</td>\n",
       "      <td>223.000000</td>\n",
       "    </tr>\n",
       "  </tbody>\n",
       "</table>\n",
       "</div>"
      ],
      "text/plain": [
       "       Listing Price    Sale Price  Discount      Rating     Reviews\n",
       "count     643.000000    643.000000     643.0  643.000000  643.000000\n",
       "mean     3875.762053  10213.676516       0.0    2.734837    7.181960\n",
       "std      5889.947172   4513.289512       0.0    2.137756   15.968315\n",
       "min         0.000000   1595.000000       0.0    0.000000    0.000000\n",
       "25%         0.000000   6995.000000       0.0    0.000000    0.000000\n",
       "50%         0.000000   9597.000000       0.0    3.800000    1.000000\n",
       "75%      8495.000000  12797.000000       0.0    4.600000    6.000000\n",
       "max     19995.000000  36500.000000       0.0    5.000000  223.000000"
      ]
     },
     "execution_count": 12,
     "metadata": {},
     "output_type": "execute_result"
    }
   ],
   "source": [
    "#checking summary statistics for nike dataset\n",
    "Nike_lublu_df.describe()"
   ]
  },
  {
   "cell_type": "code",
   "execution_count": 13,
   "metadata": {},
   "outputs": [
    {
     "data": {
      "text/html": [
       "<div>\n",
       "<style scoped>\n",
       "    .dataframe tbody tr th:only-of-type {\n",
       "        vertical-align: middle;\n",
       "    }\n",
       "\n",
       "    .dataframe tbody tr th {\n",
       "        vertical-align: top;\n",
       "    }\n",
       "\n",
       "    .dataframe thead th {\n",
       "        text-align: right;\n",
       "    }\n",
       "</style>\n",
       "<table border=\"1\" class=\"dataframe\">\n",
       "  <thead>\n",
       "    <tr style=\"text-align: right;\">\n",
       "      <th></th>\n",
       "      <th>Listing Price</th>\n",
       "      <th>Sale Price</th>\n",
       "      <th>Discount</th>\n",
       "      <th>Rating</th>\n",
       "      <th>Reviews</th>\n",
       "    </tr>\n",
       "  </thead>\n",
       "  <tbody>\n",
       "    <tr>\n",
       "      <th>count</th>\n",
       "      <td>2625.000000</td>\n",
       "      <td>2625.000000</td>\n",
       "      <td>2625.000000</td>\n",
       "      <td>2625.0</td>\n",
       "      <td>2625.0</td>\n",
       "    </tr>\n",
       "    <tr>\n",
       "      <th>mean</th>\n",
       "      <td>7600.980952</td>\n",
       "      <td>5135.004190</td>\n",
       "      <td>33.459048</td>\n",
       "      <td>0.0</td>\n",
       "      <td>0.0</td>\n",
       "    </tr>\n",
       "    <tr>\n",
       "      <th>std</th>\n",
       "      <td>4071.014515</td>\n",
       "      <td>3589.990374</td>\n",
       "      <td>20.431622</td>\n",
       "      <td>0.0</td>\n",
       "      <td>0.0</td>\n",
       "    </tr>\n",
       "    <tr>\n",
       "      <th>min</th>\n",
       "      <td>899.000000</td>\n",
       "      <td>449.000000</td>\n",
       "      <td>0.000000</td>\n",
       "      <td>0.0</td>\n",
       "      <td>0.0</td>\n",
       "    </tr>\n",
       "    <tr>\n",
       "      <th>25%</th>\n",
       "      <td>4999.000000</td>\n",
       "      <td>2799.000000</td>\n",
       "      <td>0.000000</td>\n",
       "      <td>0.0</td>\n",
       "      <td>0.0</td>\n",
       "    </tr>\n",
       "    <tr>\n",
       "      <th>50%</th>\n",
       "      <td>6599.000000</td>\n",
       "      <td>3999.000000</td>\n",
       "      <td>40.000000</td>\n",
       "      <td>0.0</td>\n",
       "      <td>0.0</td>\n",
       "    </tr>\n",
       "    <tr>\n",
       "      <th>75%</th>\n",
       "      <td>8999.000000</td>\n",
       "      <td>6499.000000</td>\n",
       "      <td>50.000000</td>\n",
       "      <td>0.0</td>\n",
       "      <td>0.0</td>\n",
       "    </tr>\n",
       "    <tr>\n",
       "      <th>max</th>\n",
       "      <td>29999.000000</td>\n",
       "      <td>29999.000000</td>\n",
       "      <td>60.000000</td>\n",
       "      <td>0.0</td>\n",
       "      <td>0.0</td>\n",
       "    </tr>\n",
       "  </tbody>\n",
       "</table>\n",
       "</div>"
      ],
      "text/plain": [
       "       Listing Price    Sale Price     Discount  Rating  Reviews\n",
       "count    2625.000000   2625.000000  2625.000000  2625.0   2625.0\n",
       "mean     7600.980952   5135.004190    33.459048     0.0      0.0\n",
       "std      4071.014515   3589.990374    20.431622     0.0      0.0\n",
       "min       899.000000    449.000000     0.000000     0.0      0.0\n",
       "25%      4999.000000   2799.000000     0.000000     0.0      0.0\n",
       "50%      6599.000000   3999.000000    40.000000     0.0      0.0\n",
       "75%      8999.000000   6499.000000    50.000000     0.0      0.0\n",
       "max     29999.000000  29999.000000    60.000000     0.0      0.0"
      ]
     },
     "execution_count": 13,
     "metadata": {},
     "output_type": "execute_result"
    }
   ],
   "source": [
    "#checking summary statistics for Adidas dataset\n",
    "Adidas_lublu_df.describe()"
   ]
  },
  {
   "cell_type": "markdown",
   "metadata": {},
   "source": [
    "### Data Exploration(data cleaning)"
   ]
  },
  {
   "cell_type": "code",
   "execution_count": 14,
   "metadata": {},
   "outputs": [
    {
     "data": {
      "text/plain": [
       "URL               0\n",
       "Product Name      0\n",
       "Product ID        0\n",
       "Listing Price     0\n",
       "Sale Price        0\n",
       "Discount          0\n",
       "Brand             0\n",
       "Description       3\n",
       "Rating            0\n",
       "Reviews           0\n",
       "Images           71\n",
       "Last Visited      0\n",
       "dtype: int64"
      ]
     },
     "execution_count": 14,
     "metadata": {},
     "output_type": "execute_result"
    }
   ],
   "source": [
    "#checking mising data for nike dataset\n",
    "Nike_lublu_df.isna().sum()"
   ]
  },
  {
   "cell_type": "markdown",
   "metadata": {},
   "source": [
    "#### There is only TWO variable that has missing data in nike:-Images 71,description 3 missing.\n",
    "*We will try filling the missing value with mode"
   ]
  },
  {
   "cell_type": "code",
   "execution_count": 23,
   "metadata": {},
   "outputs": [],
   "source": [
    "#filling missing images with median\n",
    "Nike_lublu_df['Images'].fillna(Nike_lublu_df['Images'].mode()[0],inplace=True)"
   ]
  },
  {
   "cell_type": "code",
   "execution_count": null,
   "metadata": {},
   "outputs": [],
   "source": [
    "#rechecking\n",
    "Nike_lublu_df['Images'].isna().sum()"
   ]
  },
  {
   "cell_type": "code",
   "execution_count": 26,
   "metadata": {},
   "outputs": [],
   "source": [
    "Nike_lublu_df['Description'].fillna(Nike_lublu_df['Description'].mode()[0],inplace=True)"
   ]
  },
  {
   "cell_type": "code",
   "execution_count": 27,
   "metadata": {},
   "outputs": [
    {
     "data": {
      "text/plain": [
       "0"
      ]
     },
     "execution_count": 27,
     "metadata": {},
     "output_type": "execute_result"
    }
   ],
   "source": [
    "#rechecking\n",
    "Nike_lublu_df['Description'].isna().sum()"
   ]
  },
  {
   "cell_type": "code",
   "execution_count": 25,
   "metadata": {},
   "outputs": [
    {
     "data": {
      "text/plain": [
       "URL              0\n",
       "Product Name     0\n",
       "Product ID       0\n",
       "Listing Price    0\n",
       "Sale Price       0\n",
       "Discount         0\n",
       "Brand            0\n",
       "Description      0\n",
       "Rating           0\n",
       "Reviews          0\n",
       "Images           0\n",
       "Last Visited     0\n",
       "dtype: int64"
      ]
     },
     "execution_count": 25,
     "metadata": {},
     "output_type": "execute_result"
    }
   ],
   "source": [
    "#checking mising data for Adidas dataset\n",
    "Adidas_lublu_df.isna().sum()"
   ]
  },
  {
   "cell_type": "markdown",
   "metadata": {},
   "source": [
    "#### We can see that there are no missing values in adidas!CONGRATS!!"
   ]
  },
  {
   "cell_type": "code",
   "execution_count": 29,
   "metadata": {},
   "outputs": [
    {
     "data": {
      "text/plain": [
       "0"
      ]
     },
     "execution_count": 29,
     "metadata": {},
     "output_type": "execute_result"
    }
   ],
   "source": [
    "#looking for duplicated records\n",
    "Adidas_lublu_df.duplicated().sum()"
   ]
  },
  {
   "cell_type": "markdown",
   "metadata": {},
   "source": [
    "#### No duplicated values in adidas dataset!!"
   ]
  },
  {
   "cell_type": "code",
   "execution_count": 30,
   "metadata": {},
   "outputs": [
    {
     "data": {
      "text/plain": [
       "0"
      ]
     },
     "execution_count": 30,
     "metadata": {},
     "output_type": "execute_result"
    }
   ],
   "source": [
    "#looking for duplicated records\n",
    "Nike_lublu_df.duplicated().sum()"
   ]
  },
  {
   "cell_type": "markdown",
   "metadata": {},
   "source": [
    "#### No duplicated values in NIKE dataset!!"
   ]
  },
  {
   "cell_type": "code",
   "execution_count": 32,
   "metadata": {},
   "outputs": [
    {
     "data": {
      "text/plain": [
       "URL               object\n",
       "Product Name      object\n",
       "Product ID        object\n",
       "Listing Price      int64\n",
       "Sale Price         int64\n",
       "Discount           int64\n",
       "Brand             object\n",
       "Description       object\n",
       "Rating           float64\n",
       "Reviews            int64\n",
       "Images            object\n",
       "Last Visited      object\n",
       "dtype: object"
      ]
     },
     "execution_count": 32,
     "metadata": {},
     "output_type": "execute_result"
    }
   ],
   "source": [
    "#### CHECKING DATATYPES OF DATASETS\n",
    "\n",
    "Nike_lublu_df.dtypes"
   ]
  },
  {
   "cell_type": "markdown",
   "metadata": {},
   "source": [
    "##### There are only 7 objects,4 int64 and 1 float64 in NIKE_LUBLU_DF"
   ]
  },
  {
   "cell_type": "code",
   "execution_count": 33,
   "metadata": {},
   "outputs": [
    {
     "data": {
      "text/plain": [
       "URL              object\n",
       "Product Name     object\n",
       "Product ID       object\n",
       "Listing Price     int64\n",
       "Sale Price        int64\n",
       "Discount          int64\n",
       "Brand            object\n",
       "Description      object\n",
       "Rating            int64\n",
       "Reviews           int64\n",
       "Images           object\n",
       "Last Visited     object\n",
       "dtype: object"
      ]
     },
     "execution_count": 33,
     "metadata": {},
     "output_type": "execute_result"
    }
   ],
   "source": [
    "Adidas_lublu_df.dtypes"
   ]
  },
  {
   "cell_type": "markdown",
   "metadata": {},
   "source": [
    "##### There are only 7 objects,5 int64  in ADIDAS_LUBLU_DF"
   ]
  },
  {
   "cell_type": "markdown",
   "metadata": {},
   "source": [
    "## DESCRIPTIVE DATA ANALYSIS\n",
    "\n",
    "@Univariate analysis\n",
    "@Bivariate analysis"
   ]
  },
  {
   "cell_type": "markdown",
   "metadata": {},
   "source": [
    "### 1.Univariate and Bivariate Analysis on Adidas_lublu_df dataset"
   ]
  },
  {
   "cell_type": "code",
   "execution_count": 51,
   "metadata": {},
   "outputs": [
    {
     "data": {
      "text/plain": [
       "<matplotlib.axes._subplots.AxesSubplot at 0x1beb84e4760>"
      ]
     },
     "execution_count": 51,
     "metadata": {},
     "output_type": "execute_result"
    },
    {
     "data": {
      "image/png": "[encoded data removed]",
      "text/plain": [
       "<Figure size 720x576 with 2 Axes>"
      ]
     },
     "metadata": {
      "needs_background": "light"
     },
     "output_type": "display_data"
    }
   ],
   "source": [
    "# creating a heatmap of data matrix\n",
    "plt.figure(figsize=(10,8))\n",
    "sns.heatmap(Adidas_lublu_df.corr(),annot=True,vmax=1,vmin=0)"
   ]
  },
  {
   "cell_type": "markdown",
   "metadata": {},
   "source": [
    "##### LISTING PRICE AND SALES PRICE ARE THE ONLY ONES WHICH ARE POSITIVELY CORRELATED"
   ]
  },
  {
   "cell_type": "code",
   "execution_count": 69,
   "metadata": {},
   "outputs": [
    {
     "data": {
      "image/png": "[encoded data removed]",
      "text/plain": [
       "<Figure size 720x576 with 1 Axes>"
      ]
     },
     "metadata": {},
     "output_type": "display_data"
    },
    {
     "data": {
      "image/png": "[encoded data removed]",
      "text/plain": [
       "<Figure size 720x576 with 1 Axes>"
      ]
     },
     "metadata": {
      "needs_background": "light"
     },
     "output_type": "display_data"
    }
   ],
   "source": [
    "#visualizing diffrent brands od addidas\n",
    "plt.figure(figsize=(10,8))\n",
    "Adidas_lublu_df['Brand'].value_counts().plot(kind='pie',autopct='%1.1f%%')\n",
    "plt.title('VISUAL OF DIFFRENT BRANDS OF ADIDAS BEING SOLD',color='red')\n",
    "plt.show()\n",
    "plt.figure(figsize=(10,8))\n",
    "Adidas_lublu_df['Brand'].value_counts().plot(kind='bar',rot=15)\n",
    "plt.title('VISUAL OF DIFFRENT BRANDS OF ADIDAS BEING SOLD',color='red')\n",
    "plt.show()"
   ]
  },
  {
   "cell_type": "markdown",
   "metadata": {},
   "source": [
    "### observation::: There are three brands of  adidas being sold;Sport performance,Originals and Core/Neo\n",
    "### ---->CORE has the highest number sold(42.3%),followed by Originals(34.6%) then sport performance(23.1%)"
   ]
  },
  {
   "cell_type": "code",
   "execution_count": null,
   "metadata": {},
   "outputs": [],
   "source": []
  },
  {
   "cell_type": "code",
   "execution_count": 70,
   "metadata": {},
   "outputs": [
    {
     "data": {
      "text/html": [
       "<div>\n",
       "<style scoped>\n",
       "    .dataframe tbody tr th:only-of-type {\n",
       "        vertical-align: middle;\n",
       "    }\n",
       "\n",
       "    .dataframe tbody tr th {\n",
       "        vertical-align: top;\n",
       "    }\n",
       "\n",
       "    .dataframe thead th {\n",
       "        text-align: right;\n",
       "    }\n",
       "</style>\n",
       "<table border=\"1\" class=\"dataframe\">\n",
       "  <thead>\n",
       "    <tr style=\"text-align: right;\">\n",
       "      <th></th>\n",
       "      <th>Sale Price</th>\n",
       "    </tr>\n",
       "    <tr>\n",
       "      <th>Brand</th>\n",
       "      <th></th>\n",
       "    </tr>\n",
       "  </thead>\n",
       "  <tbody>\n",
       "    <tr>\n",
       "      <th>CORE / NEO</th>\n",
       "      <td>3116.212421</td>\n",
       "    </tr>\n",
       "    <tr>\n",
       "      <th>ORIGINALS</th>\n",
       "      <td>6812.436123</td>\n",
       "    </tr>\n",
       "    <tr>\n",
       "      <th>SPORT PERFORMANCE</th>\n",
       "      <td>6322.742574</td>\n",
       "    </tr>\n",
       "  </tbody>\n",
       "</table>\n",
       "</div>"
      ],
      "text/plain": [
       "                    Sale Price\n",
       "Brand                         \n",
       "CORE / NEO         3116.212421\n",
       "ORIGINALS          6812.436123\n",
       "SPORT PERFORMANCE  6322.742574"
      ]
     },
     "execution_count": 70,
     "metadata": {},
     "output_type": "execute_result"
    }
   ],
   "source": [
    "#sales price for 3 brands\n",
    "pd.pivot_table(Adidas_lublu_df,index='Brand',aggfunc={'Sale Price':'mean'})"
   ]
  },
  {
   "cell_type": "markdown",
   "metadata": {},
   "source": [
    "### Observation::Brand 'Originals' has the highest sale price(6812.436123) While Brand 'CORE' has the lowest Sale price(3116.212421)"
   ]
  },
  {
   "cell_type": "code",
   "execution_count": null,
   "metadata": {},
   "outputs": [],
   "source": []
  },
  {
   "cell_type": "code",
   "execution_count": 71,
   "metadata": {},
   "outputs": [
    {
     "data": {
      "text/html": [
       "<div>\n",
       "<style scoped>\n",
       "    .dataframe tbody tr th:only-of-type {\n",
       "        vertical-align: middle;\n",
       "    }\n",
       "\n",
       "    .dataframe tbody tr th {\n",
       "        vertical-align: top;\n",
       "    }\n",
       "\n",
       "    .dataframe thead th {\n",
       "        text-align: right;\n",
       "    }\n",
       "</style>\n",
       "<table border=\"1\" class=\"dataframe\">\n",
       "  <thead>\n",
       "    <tr style=\"text-align: right;\">\n",
       "      <th></th>\n",
       "      <th>Listing Price</th>\n",
       "    </tr>\n",
       "    <tr>\n",
       "      <th>Brand</th>\n",
       "      <th></th>\n",
       "    </tr>\n",
       "  </thead>\n",
       "  <tbody>\n",
       "    <tr>\n",
       "      <th>CORE / NEO</th>\n",
       "      <td>4951.835284</td>\n",
       "    </tr>\n",
       "    <tr>\n",
       "      <th>ORIGINALS</th>\n",
       "      <td>9820.475771</td>\n",
       "    </tr>\n",
       "    <tr>\n",
       "      <th>SPORT PERFORMANCE</th>\n",
       "      <td>9132.168317</td>\n",
       "    </tr>\n",
       "  </tbody>\n",
       "</table>\n",
       "</div>"
      ],
      "text/plain": [
       "                   Listing Price\n",
       "Brand                           \n",
       "CORE / NEO           4951.835284\n",
       "ORIGINALS            9820.475771\n",
       "SPORT PERFORMANCE    9132.168317"
      ]
     },
     "execution_count": 71,
     "metadata": {},
     "output_type": "execute_result"
    }
   ],
   "source": [
    "#listing price for 3 brands\n",
    "pd.pivot_table(Adidas_lublu_df,index='Brand',aggfunc={'Listing Price':'mean'})"
   ]
  },
  {
   "cell_type": "markdown",
   "metadata": {},
   "source": [
    "### ----->ADVICE:;;from the observations of price the lublu company should consider taking 'ORIGINALS'BRAND SINCE IT HAS A HIGH PRICE(BOTH LISTING AND SALE)"
   ]
  },
  {
   "cell_type": "code",
   "execution_count": null,
   "metadata": {},
   "outputs": [],
   "source": []
  },
  {
   "cell_type": "code",
   "execution_count": 77,
   "metadata": {},
   "outputs": [
    {
     "data": {
      "text/html": [
       "<div>\n",
       "<style scoped>\n",
       "    .dataframe tbody tr th:only-of-type {\n",
       "        vertical-align: middle;\n",
       "    }\n",
       "\n",
       "    .dataframe tbody tr th {\n",
       "        vertical-align: top;\n",
       "    }\n",
       "\n",
       "    .dataframe thead th {\n",
       "        text-align: right;\n",
       "    }\n",
       "</style>\n",
       "<table border=\"1\" class=\"dataframe\">\n",
       "  <thead>\n",
       "    <tr style=\"text-align: right;\">\n",
       "      <th></th>\n",
       "      <th>Discount</th>\n",
       "    </tr>\n",
       "    <tr>\n",
       "      <th>Brand</th>\n",
       "      <th></th>\n",
       "    </tr>\n",
       "  </thead>\n",
       "  <tbody>\n",
       "    <tr>\n",
       "      <th>CORE / NEO</th>\n",
       "      <td>36.300630</td>\n",
       "    </tr>\n",
       "    <tr>\n",
       "      <th>ORIGINALS</th>\n",
       "      <td>31.134361</td>\n",
       "    </tr>\n",
       "    <tr>\n",
       "      <th>SPORT PERFORMANCE</th>\n",
       "      <td>31.732673</td>\n",
       "    </tr>\n",
       "  </tbody>\n",
       "</table>\n",
       "</div>"
      ],
      "text/plain": [
       "                    Discount\n",
       "Brand                       \n",
       "CORE / NEO         36.300630\n",
       "ORIGINALS          31.134361\n",
       "SPORT PERFORMANCE  31.732673"
      ]
     },
     "execution_count": 77,
     "metadata": {},
     "output_type": "execute_result"
    }
   ],
   "source": [
    "#discount for 3 brands\n",
    "pd.pivot_table(Adidas_lublu_df,index='Brand',aggfunc={'Discount':'mean'})"
   ]
  },
  {
   "cell_type": "markdown",
   "metadata": {},
   "source": [
    "#### observation:Core/neo is giving highest discount while 'originals'has lowest discount.In this context we shouldnt look for highest discount instead the lowest.Therfore liblu should consider ORIGINALS AS THE BEST!"
   ]
  },
  {
   "cell_type": "code",
   "execution_count": null,
   "metadata": {},
   "outputs": [],
   "source": []
  },
  {
   "cell_type": "markdown",
   "metadata": {},
   "source": [
    "### 2.Univariate and Bivariate Analysis on Nike_lublu_df dataset"
   ]
  },
  {
   "cell_type": "code",
   "execution_count": 79,
   "metadata": {},
   "outputs": [
    {
     "data": {
      "text/plain": [
       "<matplotlib.axes._subplots.AxesSubplot at 0x1beb6656430>"
      ]
     },
     "execution_count": 79,
     "metadata": {},
     "output_type": "execute_result"
    },
    {
     "data": {
      "image/png": "[encoded data removed]",
      "text/plain": [
       "<Figure size 720x576 with 2 Axes>"
      ]
     },
     "metadata": {
      "needs_background": "light"
     },
     "output_type": "display_data"
    }
   ],
   "source": [
    "# creating a heatmap of data matrix\n",
    "plt.figure(figsize=(10,8))\n",
    "sns.heatmap(Nike_lublu_df.corr(),annot=True,vmax=1,vmin=-1)\n",
    "\n"
   ]
  },
  {
   "cell_type": "markdown",
   "metadata": {},
   "source": [
    "#### interpration:::"
   ]
  },
  {
   "cell_type": "markdown",
   "metadata": {},
   "source": [
    "##### almost no correlation very weak relationship"
   ]
  },
  {
   "cell_type": "code",
   "execution_count": 80,
   "metadata": {},
   "outputs": [
    {
     "data": {
      "image/png": "[encoded data removed]",
      "text/plain": [
       "<Figure size 720x576 with 1 Axes>"
      ]
     },
     "metadata": {},
     "output_type": "display_data"
    },
    {
     "data": {
      "image/png": "[encoded data removed]",
      "text/plain": [
       "<Figure size 720x576 with 1 Axes>"
      ]
     },
     "metadata": {
      "needs_background": "light"
     },
     "output_type": "display_data"
    }
   ],
   "source": [
    "#visualizing diffrent brands od addidas\n",
    "plt.figure(figsize=(10,8))\n",
    "Nike_lublu_df['Brand'].value_counts().plot(kind='pie',autopct='%1.1f%%')\n",
    "plt.title('VISUAL OF DIFFRENT BRANDS OF ADIDAS BEING SOLD',color='red')\n",
    "plt.show()\n",
    "plt.figure(figsize=(10,8))\n",
    "Nike_lublu_df['Brand'].value_counts().plot(kind='bar',rot=15)\n",
    "plt.title('VISUAL OF DIFFRENT BRANDS OF ADIDAS BEING SOLD',color='red')\n",
    "plt.show()"
   ]
  },
  {
   "cell_type": "markdown",
   "metadata": {},
   "source": [
    "### OBSERVATION------------->only one brand 'NIKE'"
   ]
  },
  {
   "cell_type": "code",
   "execution_count": 88,
   "metadata": {},
   "outputs": [
    {
     "data": {
      "text/html": [
       "<div>\n",
       "<style scoped>\n",
       "    .dataframe tbody tr th:only-of-type {\n",
       "        vertical-align: middle;\n",
       "    }\n",
       "\n",
       "    .dataframe tbody tr th {\n",
       "        vertical-align: top;\n",
       "    }\n",
       "\n",
       "    .dataframe thead th {\n",
       "        text-align: right;\n",
       "    }\n",
       "</style>\n",
       "<table border=\"1\" class=\"dataframe\">\n",
       "  <thead>\n",
       "    <tr style=\"text-align: right;\">\n",
       "      <th></th>\n",
       "      <th>Sale Price</th>\n",
       "    </tr>\n",
       "    <tr>\n",
       "      <th>Listing Price</th>\n",
       "      <th></th>\n",
       "    </tr>\n",
       "  </thead>\n",
       "  <tbody>\n",
       "    <tr>\n",
       "      <th>0</th>\n",
       "      <td>11220.129108</td>\n",
       "    </tr>\n",
       "    <tr>\n",
       "      <th>2995</th>\n",
       "      <td>2247.000000</td>\n",
       "    </tr>\n",
       "    <tr>\n",
       "      <th>3995</th>\n",
       "      <td>3197.000000</td>\n",
       "    </tr>\n",
       "    <tr>\n",
       "      <th>4495</th>\n",
       "      <td>3259.500000</td>\n",
       "    </tr>\n",
       "    <tr>\n",
       "      <th>4795</th>\n",
       "      <td>3357.000000</td>\n",
       "    </tr>\n",
       "    <tr>\n",
       "      <th>4995</th>\n",
       "      <td>3663.666667</td>\n",
       "    </tr>\n",
       "    <tr>\n",
       "      <th>5995</th>\n",
       "      <td>4397.000000</td>\n",
       "    </tr>\n",
       "    <tr>\n",
       "      <th>6495</th>\n",
       "      <td>4547.000000</td>\n",
       "    </tr>\n",
       "    <tr>\n",
       "      <th>6995</th>\n",
       "      <td>5422.000000</td>\n",
       "    </tr>\n",
       "    <tr>\n",
       "      <th>7495</th>\n",
       "      <td>5315.181818</td>\n",
       "    </tr>\n",
       "    <tr>\n",
       "      <th>7895</th>\n",
       "      <td>6317.000000</td>\n",
       "    </tr>\n",
       "    <tr>\n",
       "      <th>7995</th>\n",
       "      <td>5730.333333</td>\n",
       "    </tr>\n",
       "    <tr>\n",
       "      <th>8495</th>\n",
       "      <td>6265.750000</td>\n",
       "    </tr>\n",
       "    <tr>\n",
       "      <th>8995</th>\n",
       "      <td>6522.000000</td>\n",
       "    </tr>\n",
       "    <tr>\n",
       "      <th>9495</th>\n",
       "      <td>7597.000000</td>\n",
       "    </tr>\n",
       "    <tr>\n",
       "      <th>9995</th>\n",
       "      <td>7063.666667</td>\n",
       "    </tr>\n",
       "    <tr>\n",
       "      <th>10995</th>\n",
       "      <td>7635.888889</td>\n",
       "    </tr>\n",
       "    <tr>\n",
       "      <th>11995</th>\n",
       "      <td>8540.529412</td>\n",
       "    </tr>\n",
       "    <tr>\n",
       "      <th>12995</th>\n",
       "      <td>8988.666667</td>\n",
       "    </tr>\n",
       "    <tr>\n",
       "      <th>13995</th>\n",
       "      <td>9897.000000</td>\n",
       "    </tr>\n",
       "    <tr>\n",
       "      <th>14995</th>\n",
       "      <td>10247.000000</td>\n",
       "    </tr>\n",
       "    <tr>\n",
       "      <th>15995</th>\n",
       "      <td>11439.424242</td>\n",
       "    </tr>\n",
       "    <tr>\n",
       "      <th>16995</th>\n",
       "      <td>12577.000000</td>\n",
       "    </tr>\n",
       "    <tr>\n",
       "      <th>17995</th>\n",
       "      <td>13497.000000</td>\n",
       "    </tr>\n",
       "    <tr>\n",
       "      <th>18995</th>\n",
       "      <td>14247.000000</td>\n",
       "    </tr>\n",
       "    <tr>\n",
       "      <th>19995</th>\n",
       "      <td>15997.000000</td>\n",
       "    </tr>\n",
       "  </tbody>\n",
       "</table>\n",
       "</div>"
      ],
      "text/plain": [
       "                 Sale Price\n",
       "Listing Price              \n",
       "0              11220.129108\n",
       "2995            2247.000000\n",
       "3995            3197.000000\n",
       "4495            3259.500000\n",
       "4795            3357.000000\n",
       "4995            3663.666667\n",
       "5995            4397.000000\n",
       "6495            4547.000000\n",
       "6995            5422.000000\n",
       "7495            5315.181818\n",
       "7895            6317.000000\n",
       "7995            5730.333333\n",
       "8495            6265.750000\n",
       "8995            6522.000000\n",
       "9495            7597.000000\n",
       "9995            7063.666667\n",
       "10995           7635.888889\n",
       "11995           8540.529412\n",
       "12995           8988.666667\n",
       "13995           9897.000000\n",
       "14995          10247.000000\n",
       "15995          11439.424242\n",
       "16995          12577.000000\n",
       "17995          13497.000000\n",
       "18995          14247.000000\n",
       "19995          15997.000000"
      ]
     },
     "execution_count": 88,
     "metadata": {},
     "output_type": "execute_result"
    }
   ],
   "source": [
    "\n",
    "pd.pivot_table(Nike_lublu_df,index='Listing Price',aggfunc={'Sale Price':'mean'})"
   ]
  },
  {
   "cell_type": "code",
   "execution_count": null,
   "metadata": {},
   "outputs": [],
   "source": []
  },
  {
   "cell_type": "code",
   "execution_count": 101,
   "metadata": {},
   "outputs": [
    {
     "data": {
      "text/html": [
       "<div>\n",
       "<style scoped>\n",
       "    .dataframe tbody tr th:only-of-type {\n",
       "        vertical-align: middle;\n",
       "    }\n",
       "\n",
       "    .dataframe tbody tr th {\n",
       "        vertical-align: top;\n",
       "    }\n",
       "\n",
       "    .dataframe thead th {\n",
       "        text-align: right;\n",
       "    }\n",
       "</style>\n",
       "<table border=\"1\" class=\"dataframe\">\n",
       "  <thead>\n",
       "    <tr style=\"text-align: right;\">\n",
       "      <th></th>\n",
       "      <th>Rating</th>\n",
       "    </tr>\n",
       "    <tr>\n",
       "      <th>Reviews</th>\n",
       "      <th></th>\n",
       "    </tr>\n",
       "  </thead>\n",
       "  <tbody>\n",
       "    <tr>\n",
       "      <th>0</th>\n",
       "      <td>0.000000</td>\n",
       "    </tr>\n",
       "    <tr>\n",
       "      <th>1</th>\n",
       "      <td>4.434343</td>\n",
       "    </tr>\n",
       "    <tr>\n",
       "      <th>2</th>\n",
       "      <td>4.500000</td>\n",
       "    </tr>\n",
       "    <tr>\n",
       "      <th>3</th>\n",
       "      <td>4.322857</td>\n",
       "    </tr>\n",
       "    <tr>\n",
       "      <th>4</th>\n",
       "      <td>4.214286</td>\n",
       "    </tr>\n",
       "    <tr>\n",
       "      <th>5</th>\n",
       "      <td>3.954839</td>\n",
       "    </tr>\n",
       "    <tr>\n",
       "      <th>6</th>\n",
       "      <td>4.129412</td>\n",
       "    </tr>\n",
       "    <tr>\n",
       "      <th>7</th>\n",
       "      <td>3.955556</td>\n",
       "    </tr>\n",
       "    <tr>\n",
       "      <th>8</th>\n",
       "      <td>4.120000</td>\n",
       "    </tr>\n",
       "    <tr>\n",
       "      <th>9</th>\n",
       "      <td>4.433333</td>\n",
       "    </tr>\n",
       "    <tr>\n",
       "      <th>10</th>\n",
       "      <td>4.118182</td>\n",
       "    </tr>\n",
       "    <tr>\n",
       "      <th>11</th>\n",
       "      <td>3.475000</td>\n",
       "    </tr>\n",
       "    <tr>\n",
       "      <th>12</th>\n",
       "      <td>4.266667</td>\n",
       "    </tr>\n",
       "    <tr>\n",
       "      <th>13</th>\n",
       "      <td>4.200000</td>\n",
       "    </tr>\n",
       "    <tr>\n",
       "      <th>14</th>\n",
       "      <td>3.800000</td>\n",
       "    </tr>\n",
       "    <tr>\n",
       "      <th>15</th>\n",
       "      <td>3.850000</td>\n",
       "    </tr>\n",
       "    <tr>\n",
       "      <th>16</th>\n",
       "      <td>4.450000</td>\n",
       "    </tr>\n",
       "    <tr>\n",
       "      <th>17</th>\n",
       "      <td>4.300000</td>\n",
       "    </tr>\n",
       "    <tr>\n",
       "      <th>18</th>\n",
       "      <td>4.255556</td>\n",
       "    </tr>\n",
       "    <tr>\n",
       "      <th>19</th>\n",
       "      <td>3.857143</td>\n",
       "    </tr>\n",
       "    <tr>\n",
       "      <th>20</th>\n",
       "      <td>4.033333</td>\n",
       "    </tr>\n",
       "    <tr>\n",
       "      <th>22</th>\n",
       "      <td>4.400000</td>\n",
       "    </tr>\n",
       "    <tr>\n",
       "      <th>23</th>\n",
       "      <td>3.950000</td>\n",
       "    </tr>\n",
       "    <tr>\n",
       "      <th>24</th>\n",
       "      <td>4.266667</td>\n",
       "    </tr>\n",
       "    <tr>\n",
       "      <th>25</th>\n",
       "      <td>4.125000</td>\n",
       "    </tr>\n",
       "    <tr>\n",
       "      <th>26</th>\n",
       "      <td>3.900000</td>\n",
       "    </tr>\n",
       "    <tr>\n",
       "      <th>27</th>\n",
       "      <td>4.050000</td>\n",
       "    </tr>\n",
       "    <tr>\n",
       "      <th>29</th>\n",
       "      <td>4.200000</td>\n",
       "    </tr>\n",
       "    <tr>\n",
       "      <th>30</th>\n",
       "      <td>4.133333</td>\n",
       "    </tr>\n",
       "    <tr>\n",
       "      <th>31</th>\n",
       "      <td>3.900000</td>\n",
       "    </tr>\n",
       "    <tr>\n",
       "      <th>33</th>\n",
       "      <td>4.000000</td>\n",
       "    </tr>\n",
       "    <tr>\n",
       "      <th>34</th>\n",
       "      <td>4.342857</td>\n",
       "    </tr>\n",
       "    <tr>\n",
       "      <th>36</th>\n",
       "      <td>4.500000</td>\n",
       "    </tr>\n",
       "    <tr>\n",
       "      <th>42</th>\n",
       "      <td>4.200000</td>\n",
       "    </tr>\n",
       "    <tr>\n",
       "      <th>45</th>\n",
       "      <td>4.533333</td>\n",
       "    </tr>\n",
       "    <tr>\n",
       "      <th>47</th>\n",
       "      <td>4.500000</td>\n",
       "    </tr>\n",
       "    <tr>\n",
       "      <th>48</th>\n",
       "      <td>4.400000</td>\n",
       "    </tr>\n",
       "    <tr>\n",
       "      <th>50</th>\n",
       "      <td>3.700000</td>\n",
       "    </tr>\n",
       "    <tr>\n",
       "      <th>53</th>\n",
       "      <td>4.000000</td>\n",
       "    </tr>\n",
       "    <tr>\n",
       "      <th>54</th>\n",
       "      <td>3.100000</td>\n",
       "    </tr>\n",
       "    <tr>\n",
       "      <th>61</th>\n",
       "      <td>4.200000</td>\n",
       "    </tr>\n",
       "    <tr>\n",
       "      <th>62</th>\n",
       "      <td>4.200000</td>\n",
       "    </tr>\n",
       "    <tr>\n",
       "      <th>63</th>\n",
       "      <td>4.200000</td>\n",
       "    </tr>\n",
       "    <tr>\n",
       "      <th>65</th>\n",
       "      <td>4.000000</td>\n",
       "    </tr>\n",
       "    <tr>\n",
       "      <th>67</th>\n",
       "      <td>4.500000</td>\n",
       "    </tr>\n",
       "    <tr>\n",
       "      <th>68</th>\n",
       "      <td>4.600000</td>\n",
       "    </tr>\n",
       "    <tr>\n",
       "      <th>71</th>\n",
       "      <td>2.900000</td>\n",
       "    </tr>\n",
       "    <tr>\n",
       "      <th>72</th>\n",
       "      <td>4.100000</td>\n",
       "    </tr>\n",
       "    <tr>\n",
       "      <th>78</th>\n",
       "      <td>4.500000</td>\n",
       "    </tr>\n",
       "    <tr>\n",
       "      <th>81</th>\n",
       "      <td>3.800000</td>\n",
       "    </tr>\n",
       "    <tr>\n",
       "      <th>94</th>\n",
       "      <td>4.100000</td>\n",
       "    </tr>\n",
       "    <tr>\n",
       "      <th>105</th>\n",
       "      <td>4.300000</td>\n",
       "    </tr>\n",
       "    <tr>\n",
       "      <th>223</th>\n",
       "      <td>4.700000</td>\n",
       "    </tr>\n",
       "  </tbody>\n",
       "</table>\n",
       "</div>"
      ],
      "text/plain": [
       "           Rating\n",
       "Reviews          \n",
       "0        0.000000\n",
       "1        4.434343\n",
       "2        4.500000\n",
       "3        4.322857\n",
       "4        4.214286\n",
       "5        3.954839\n",
       "6        4.129412\n",
       "7        3.955556\n",
       "8        4.120000\n",
       "9        4.433333\n",
       "10       4.118182\n",
       "11       3.475000\n",
       "12       4.266667\n",
       "13       4.200000\n",
       "14       3.800000\n",
       "15       3.850000\n",
       "16       4.450000\n",
       "17       4.300000\n",
       "18       4.255556\n",
       "19       3.857143\n",
       "20       4.033333\n",
       "22       4.400000\n",
       "23       3.950000\n",
       "24       4.266667\n",
       "25       4.125000\n",
       "26       3.900000\n",
       "27       4.050000\n",
       "29       4.200000\n",
       "30       4.133333\n",
       "31       3.900000\n",
       "33       4.000000\n",
       "34       4.342857\n",
       "36       4.500000\n",
       "42       4.200000\n",
       "45       4.533333\n",
       "47       4.500000\n",
       "48       4.400000\n",
       "50       3.700000\n",
       "53       4.000000\n",
       "54       3.100000\n",
       "61       4.200000\n",
       "62       4.200000\n",
       "63       4.200000\n",
       "65       4.000000\n",
       "67       4.500000\n",
       "68       4.600000\n",
       "71       2.900000\n",
       "72       4.100000\n",
       "78       4.500000\n",
       "81       3.800000\n",
       "94       4.100000\n",
       "105      4.300000\n",
       "223      4.700000"
      ]
     },
     "execution_count": 101,
     "metadata": {},
     "output_type": "execute_result"
    }
   ],
   "source": [
    "#sales price for 3 brands\n",
    "pd.pivot_table(Nike_lublu_df,index='Reviews',aggfunc={'Rating':'mean'})"
   ]
  },
  {
   "cell_type": "code",
   "execution_count": null,
   "metadata": {},
   "outputs": [],
   "source": []
  },
  {
   "cell_type": "code",
   "execution_count": null,
   "metadata": {},
   "outputs": [],
   "source": []
  },
  {
   "cell_type": "markdown",
   "metadata": {},
   "source": [
    "##### comparing mean of sale price of Adidas and Nike data we observe the company should consider using NIKE SINCE IT HAS A HIGHER SALES THAN ADIDAS.\n",
    "\n",
    "### OBSERVED:\n",
    "nike data has more reviews and ratings that makes it more famous and also is bought frequently.come from summary statistics"
   ]
  },
  {
   "cell_type": "code",
   "execution_count": null,
   "metadata": {},
   "outputs": [],
   "source": []
  },
  {
   "cell_type": "code",
   "execution_count": null,
   "metadata": {},
   "outputs": [],
   "source": []
  }
 ],
 "metadata": {
  "kernelspec": {
   "display_name": "Python 3",
   "language": "python",
   "name": "python3"
  },
  "language_info": {
   "codemirror_mode": {
    "name": "ipython",
    "version": 3
   },
   "file_extension": ".py",
   "mimetype": "text/x-python",
   "name": "python",
   "nbconvert_exporter": "python",
   "pygments_lexer": "ipython3",
   "version": "3.8.3"
  }
 },
 "nbformat": 4,
 "nbformat_minor": 4
}
